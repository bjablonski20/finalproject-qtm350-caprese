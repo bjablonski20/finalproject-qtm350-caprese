{
 "cells": [
  {
   "cell_type": "markdown",
   "metadata": {},
   "source": [
    "# Assessing Accuracy of Amazon Transcribe at Increasing Speech Speeds: Demo\n",
    "This demo solution and Github repo demonstrates how to test the accuracy of Amazon Transcribe at increasing levels of speech speed. It consists of both the data used in this solution as well as the notebook and code to recreate the solution \n",
    "\n",
    "## Data\n",
    "For this example, 8 different texts are read. Each text is read and recorded 10 different times at 5 different speeds: 75 words per minute, 125 words per minute, 175 words per minute, 225 words per minute, and 275 words per minute. \n",
    "\n",
    "All audio files and text files are saved under the \"Input Data\" folder. Inside of this folder, these files are segmented by document number. \n",
    "- Doc 1: This document is the opening lines to *The Tale of Two Cities*\n",
    "- Doc 2: This document is an excerpt from a [research paper](https://arxiv.org/pdf/1807.02221.pdf) titled \"THE DATA SCIENCE OF HOLLYWOOD: USING EMOTIONAL ARCS OF MOVIES TO DRIVE BUSINESS MODEL INNOVATION IN ENTERTAINMENT INDUSTRIES\".\n",
    "- Doc 3: This document is an excerpt from an [article](https://fivethirtyeight.com/features/final-2020-house-forecast/) from 538 titled \"Final Forecast: Democrats Are Clear Favorites To Maintain Control Of The House\".\n",
    "- Doc 4: This document is the opening lines from *The Iliad.\n",
    "- Doc 5: This document is three [tweets](https://twitter.com/realDonaldTrump) from Donald Trump.\n",
    "- Doc 6: This document is an excerpt from an [article](https://fivethirtyeight.com/features/final-2020-presidential-election-forecast/) from 538 titled \"Biden’s Favored In Our Final Presidential Forecast, But It’s A Fine Line Between A Landslide And A Nail-Biter\".\n",
    "- Doc 7: This document is an excerpt from a [research paper](https://www.researchgate.net/publication/339500868_Applications_of_Topic_Models) titled \"Applications of Topic Models\".\n",
    "- Doc 8: This document is three [tweets](https://twitter.com/JoeBiden?ref_src=twsrc%5Egoogle%7Ctwcamp%5Eserp%7Ctwgr%5Eauthor) from Joe Biden. \n",
    "\n",
    "## Demo Solution and Recreation \n",
    "This section will demonstrate how to recreate the solution shown in the notebooks. \n",
    "1. Clone this Github Repo: This can be done by running the following code in the terminal of your machine. \n"
   ]
  },
  {
   "cell_type": "code",
   "execution_count": null,
   "metadata": {},
   "outputs": [],
   "source": [
    "!gh repo clone bjablonski20/finalproject-qtm350-caprese"
   ]
  },
  {
   "cell_type": "markdown",
   "metadata": {},
   "source": [
    "2. Provide your Sagemaker Execution IAM Role with AmazonTranscribeFullAccess Role: This can be done in one of two ways.\n",
    "    - Go to the IAM role that you wish to alter. Click attach policy, and search for AmazonTranscribeFullAccess. Click on the policy and attach it. \n",
    "    - Alternatively, you can attach the following JSON policy to your Sagemaker Execution Role. This JSON is also saved in the Github Repo under the IAMPolicies folder. \n"
   ]
  },
  {
   "cell_type": "code",
   "execution_count": 1,
   "metadata": {},
   "outputs": [
    {
     "data": {
      "text/plain": [
       "{'Version': '2012-10-17',\n",
       " 'Statement': [{'Effect': 'Allow',\n",
       "   'Action': ['transcribe:*'],\n",
       "   'Resource': '*'},\n",
       "  {'Effect': 'Allow',\n",
       "   'Action': ['s3:GetObject'],\n",
       "   'Resource': ['arn:aws:s3:::*transcribe*']}]}"
      ]
     },
     "execution_count": 1,
     "metadata": {},
     "output_type": "execute_result"
    }
   ],
   "source": [
    "{\n",
    "    \"Version\": \"2012-10-17\",\n",
    "    \"Statement\": [\n",
    "        {\n",
    "            \"Effect\": \"Allow\",\n",
    "            \"Action\": [\n",
    "                \"transcribe:*\"\n",
    "            ],\n",
    "            \"Resource\": \"*\"\n",
    "        },\n",
    "        {\n",
    "            \"Effect\": \"Allow\",\n",
    "            \"Action\": [\n",
    "                \"s3:GetObject\"\n",
    "            ],\n",
    "            \"Resource\": [\n",
    "                \"arn:aws:s3:::*transcribe*\"\n",
    "            ]\n",
    "        }\n",
    "    ]\n",
    "}"
   ]
  },
  {
   "cell_type": "markdown",
   "metadata": {},
   "source": [
    "3. Run all code cells in the QTM350_FinalProject_BlogPost.ipynb notebook. If you do not want to create your own transcribe jobs, you can skip the third code cell in the notebook."
   ]
  },
  {
   "cell_type": "code",
   "execution_count": null,
   "metadata": {},
   "outputs": [],
   "source": []
  }
 ],
 "metadata": {
  "kernelspec": {
   "display_name": "conda_python3",
   "language": "python",
   "name": "conda_python3"
  },
  "language_info": {
   "codemirror_mode": {
    "name": "ipython",
    "version": 3
   },
   "file_extension": ".py",
   "mimetype": "text/x-python",
   "name": "python",
   "nbconvert_exporter": "python",
   "pygments_lexer": "ipython3",
   "version": "3.6.10"
  }
 },
 "nbformat": 4,
 "nbformat_minor": 4
}
